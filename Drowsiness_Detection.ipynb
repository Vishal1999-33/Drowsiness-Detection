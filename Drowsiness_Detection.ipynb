{
 "cells": [
  {
   "cell_type": "code",
   "execution_count": 1,
   "metadata": {},
   "outputs": [],
   "source": [
    "from scipy.spatial import distance\n",
    "from imutils import face_utils\n",
    "import imutils\n",
    "import dlib\n",
    "import cv2"
   ]
  },
  {
   "cell_type": "code",
   "execution_count": 2,
   "metadata": {},
   "outputs": [],
   "source": [
    "def eye_aspect_ratio(eye):\n",
    "    A = distance.euclidean(eye[1], eye[5])\n",
    "    B = distance.euclidean(eye[2], eye[4])\n",
    "    C = distance.euclidean(eye[0], eye[3])\n",
    "    ear = (A + B) / (2.0 * C)\n",
    "    return ear"
   ]
  },
  {
   "cell_type": "code",
   "execution_count": 3,
   "metadata": {},
   "outputs": [],
   "source": [
    "thresh = 0.25\n",
    "frame_check = 40\n",
    "#initializing dlib's face detector (HOG-based) and then creating the facial landmark predictor.\n",
    "detect = dlib.get_frontal_face_detector() #it returns the default face detector.\n",
    "predict = dlib.shape_predictor(\"shape_predictor_68_face_landmarks.dat\") #it takes in an image region containing some object and outputs a set of point locations that define the pose of the object."
   ]
  },
  {
   "cell_type": "code",
   "execution_count": 4,
   "metadata": {},
   "outputs": [],
   "source": [
    "#extracting the left and right eye's (x, y)-coordinates.\n",
    "(lStart, lEnd) = face_utils.FACIAL_LANDMARKS_IDXS[\"left_eye\"]\n",
    "(rStart, rEnd) = face_utils.FACIAL_LANDMARKS_IDXS[\"right_eye\"]"
   ]
  },
  {
   "cell_type": "code",
   "execution_count": 5,
   "metadata": {},
   "outputs": [],
   "source": [
    "cap=cv2.VideoCapture(0)\n",
    "#VideoCapture:Class for video capturing from video files, image sequences or cameras.\n",
    "#cv2.VideoCapture(device):id of the opened video capturing device (i.e. a camera index). If there is a single camera connected, just pass 0.\n",
    "flag=0 # initializing the frame counter.\n",
    "while True:\n",
    "    ret, frame=cap.read() #.read():Grabs, decodes and returns the next video frame.\n",
    "    frame = imutils.resize(frame, width=450) #resizing image to maximum of 450 pixels. cv2.resize() can also do the same but in order to\n",
    "                                             #maintain aspect ratio imutils.resize() is used.\n",
    "    gray = cv2.cvtColor(frame, cv2.COLOR_BGR2GRAY) #.cvtColor():Converts BGR image into GRAY image.\n",
    "    subjects = detect(gray, 0) #detects faces in the grayscale frame.\n",
    "    #looping over the face detections.\n",
    "    for subject in subjects:\n",
    "        shape = predict(gray, subject) #determining the facial landmarks for the face region.\n",
    "        shape = face_utils.shape_to_np(shape) #converting the facial landmark (x, y)-coordinates to a NumPy array.\n",
    "        #extracting the left and right eye coordinates.\n",
    "        leftEye = shape[lStart:lEnd]\n",
    "        rightEye = shape[rStart:rEnd]\n",
    "        #using the coordinates for calculating aspect ratio for both eyes.\n",
    "        leftEAR = eye_aspect_ratio(leftEye)\n",
    "        rightEAR = eye_aspect_ratio(rightEye)\n",
    "        #calculating average aspect ratio.\n",
    "        ear = (leftEAR + rightEAR) / 2.0\n",
    "        #computing the convex hull for the left and right eye(convex hull:-the smallest convex shape enclosing a given shape).\n",
    "        leftEyeHull = cv2.convexHull(leftEye)\n",
    "        rightEyeHull = cv2.convexHull(rightEye)\n",
    "        #visualizing each of the eyes.\n",
    "        cv2.drawContours(frame, [leftEyeHull], -1, (0, 255, 0), 1) #.drawContours():-Draws contours outlines or filled contours.\n",
    "        cv2.drawContours(frame, [rightEyeHull], -1, (0, 255, 0), 1) #(thickness==negative):-the contour interiors are drawn.(maxLevel==1):-the \n",
    "                                                                    #function draws the contour(s) and all the nested contours.\n",
    "        if ear < thresh:\n",
    "            flag += 1 #incrementing the blink frame counter.\n",
    "            if flag >= frame_check:\n",
    "                #cv2.putText(image,text,org,fontFace,fontScale,color,thickness)\n",
    "                cv2.putText(frame, \"****************ALERT!****************\", (10, 30), cv2.FONT_HERSHEY_SIMPLEX, 0.7, (0, 0, 255), 2) #to draw a text string.\n",
    "                cv2.putText(frame, \"****************ALERT!****************\", (10,325), cv2.FONT_HERSHEY_SIMPLEX, 0.7, (0, 0, 255), 2)\n",
    "        else:\n",
    "            flag=0\n",
    "    cv2.imshow(\"Frame\", frame)\n",
    "    key = cv2.waitKey(1) & 0xFF\n",
    "    if key == ord(\"q\"):\n",
    "        #to cleanup the camera and close any open windows\n",
    "        cv2.destroyAllWindows()\n",
    "        cap.release()\n",
    "        break"
   ]
  }
 ],
 "metadata": {
  "kernelspec": {
   "display_name": "Python 3",
   "language": "python",
   "name": "python3"
  },
  "language_info": {
   "codemirror_mode": {
    "name": "ipython",
    "version": 3
   },
   "file_extension": ".py",
   "mimetype": "text/x-python",
   "name": "python",
   "nbconvert_exporter": "python",
   "pygments_lexer": "ipython3",
   "version": "3.7.3"
  }
 },
 "nbformat": 4,
 "nbformat_minor": 2
}
